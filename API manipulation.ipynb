{
 "cells": [
  {
   "cell_type": "markdown",
   "id": "b22eeaea",
   "metadata": {},
   "source": [
    "# City \n",
    "\n",
    "Manipulation of response API and get the City, the Latitude and the Longitude."
   ]
  },
  {
   "cell_type": "code",
   "execution_count": 4,
   "id": "99409ce0",
   "metadata": {},
   "outputs": [
    {
     "name": "stdout",
     "output_type": "stream",
     "text": [
      "{'City': 'London', 'Lat': 51.506321, 'Lon': -0.12714}\n"
     ]
    }
   ],
   "source": [
    "import requests\n",
    "response = requests.get(\"https://www.metaweather.com/api/location/search/?query=london\").json()\n",
    "\n",
    "def city_info(response):\n",
    "    \n",
    "    LatLong = response[0]['latt_long'].split(',')\n",
    "    Lat = LatLong[0]\n",
    "    Long = LatLong[1]\n",
    "\n",
    "    response = {\n",
    "        \"City\" : response[0][\"title\"],\n",
    "        'Lat' : float(Lat),\n",
    "        'Lon' : float(Long)\n",
    "    }\n",
    "    return response\n",
    "\n",
    "print(city_info(response))\n",
    "\n"
   ]
  },
  {
   "cell_type": "markdown",
   "id": "6064f94d",
   "metadata": {},
   "source": [
    "# Weather weather forecast\n",
    "\n",
    "Definition of a function that returns the weather forecast for a given city."
   ]
  },
  {
   "cell_type": "code",
   "execution_count": 22,
   "id": "77d2b75b",
   "metadata": {},
   "outputs": [
    {
     "name": "stdout",
     "output_type": "stream",
     "text": [
      "The weather in London is ['Showers']\n"
     ]
    }
   ],
   "source": [
    "import datetime as dt\n",
    "\n",
    "import requests\n",
    "response = requests.get(\"https://www.metaweather.com/api/location/44418/\").json()\n",
    "\n",
    "def weather_forecast(response):\n",
    "    \n",
    "    city = response['title']\n",
    "    forecast = []\n",
    "    tomorrow = str(dt.date.today() + dt.timedelta(days=1))\n",
    "    for i in response['consolidated_weather']:\n",
    "        if i.get('applicable_date') == tomorrow:\n",
    "            forecast.append(i.get('weather_state_name'))\n",
    "    return (f\"The weather in {city} is {forecast}\")\n",
    "\n",
    "print(weather_forecast(response))"
   ]
  },
  {
   "cell_type": "code",
   "execution_count": null,
   "id": "51abb4a8",
   "metadata": {},
   "outputs": [],
   "source": []
  }
 ],
 "metadata": {
  "kernelspec": {
   "display_name": "Python 3",
   "language": "python",
   "name": "python3"
  },
  "language_info": {
   "codemirror_mode": {
    "name": "ipython",
    "version": 3
   },
   "file_extension": ".py",
   "mimetype": "text/x-python",
   "name": "python",
   "nbconvert_exporter": "python",
   "pygments_lexer": "ipython3",
   "version": "3.8.8"
  }
 },
 "nbformat": 4,
 "nbformat_minor": 5
}
