{
 "cells": [
  {
   "cell_type": "markdown",
   "id": "9e6d13f7",
   "metadata": {},
   "source": [
    "# Calculator\n",
    "\n",
    "Function that acts as a simple calculator.\n",
    "Specs\n",
    "\n",
    "This function takes a single list of strings as an argument, containing our first opperand, followed by an operator and then the 2nd operand.\n",
    "The function should return 'Please enter valid format: [Operand, Operator, Operand]' for arguments that don’t match the required format\n",
    "The funtion should work with the following simple operators +, -, *, /, %, and should return'Please enter a valid operator [ +, -, /, *, % ]' if any other operators are passed"
   ]
  },
  {
   "cell_type": "code",
   "execution_count": 1,
   "id": "fe047aab",
   "metadata": {},
   "outputs": [
    {
     "name": "stdout",
     "output_type": "stream",
     "text": [
      "9.0\n"
     ]
    }
   ],
   "source": [
    "import operator \n",
    "\n",
    "def simple_calculator(test):\n",
    "    operators={\n",
    "    \"%\": operator.mod,\n",
    "    \"+\": operator.add,\n",
    "    \"-\": operator.sub,\n",
    "    \"*\": operator.mul,\n",
    "    \"/\": operator.truediv}\n",
    "    test = list(test)\n",
    "    operand1 = float(test[0])\n",
    "    operand2 = float(test[2])\n",
    "    operator1 = test[1]\n",
    "    result=operators[operator1](operand1,operand2)\n",
    "    return result\n",
    "\n",
    "print(simple_calculator(['3', '+', '6']))"
   ]
  },
  {
   "cell_type": "code",
   "execution_count": null,
   "id": "6d8c5b15",
   "metadata": {},
   "outputs": [],
   "source": []
  }
 ],
 "metadata": {
  "kernelspec": {
   "display_name": "Python 3",
   "language": "python",
   "name": "python3"
  },
  "language_info": {
   "codemirror_mode": {
    "name": "ipython",
    "version": 3
   },
   "file_extension": ".py",
   "mimetype": "text/x-python",
   "name": "python",
   "nbconvert_exporter": "python",
   "pygments_lexer": "ipython3",
   "version": "3.8.8"
  }
 },
 "nbformat": 4,
 "nbformat_minor": 5
}
