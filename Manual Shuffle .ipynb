{
 "cells": [
  {
   "cell_type": "markdown",
   "id": "8f5f30fa",
   "metadata": {},
   "source": [
    "# Shuffle\n",
    "\n",
    "Function that shuffles manually a list a number (without the shuffle method in the random lib)\n",
    "\n",
    "The function takes one argument, a list, and return a new list with all the items of the original list in a new, randomized order."
   ]
  },
  {
   "cell_type": "code",
   "execution_count": 1,
   "id": "eefe0e3a",
   "metadata": {},
   "outputs": [
    {
     "name": "stdout",
     "output_type": "stream",
     "text": [
      "[7, 2, 0, 5, 4, 6, 9, 8, 3, 1]\n"
     ]
    }
   ],
   "source": [
    "import random\n",
    "\n",
    "def manual_shuffle(test):\n",
    "    test = list(test)\n",
    "    test1 = list(test.copy())\n",
    "    shuffled =[]\n",
    "    while len(test1) > 0:\n",
    "        shuffled.append(random.choice(test1))\n",
    "        for i in shuffled:\n",
    "            if i in test1:\n",
    "                test1.remove(i)\n",
    "    return shuffled\n",
    "\n",
    "print(manual_shuffle(list(range(10))))"
   ]
  },
  {
   "cell_type": "code",
   "execution_count": null,
   "id": "c3477d1f",
   "metadata": {},
   "outputs": [],
   "source": []
  }
 ],
 "metadata": {
  "kernelspec": {
   "display_name": "Python 3",
   "language": "python",
   "name": "python3"
  },
  "language_info": {
   "codemirror_mode": {
    "name": "ipython",
    "version": 3
   },
   "file_extension": ".py",
   "mimetype": "text/x-python",
   "name": "python",
   "nbconvert_exporter": "python",
   "pygments_lexer": "ipython3",
   "version": "3.8.8"
  }
 },
 "nbformat": 4,
 "nbformat_minor": 5
}
