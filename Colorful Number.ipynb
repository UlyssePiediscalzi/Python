{
 "cells": [
  {
   "cell_type": "markdown",
   "id": "6ad75450",
   "metadata": {},
   "source": [
    "# Colorful numbers\n",
    "\n",
    "We can break a number into different contiguous sub-subsequence parts. For example, the number 324 can be broken into parts like (3, 2, 4, 32, 24, 324). A colorful number is a number where the products of all the subsets of the digits are different. eg:\n",
    "\n",
    "263 is a colorful number (2, 6, 3, 2x6, 6x3, 2x6x3) are all different\n",
    "236 is not (2, 3, 6, 2x3, 3x6, 2x3x6) has 6 twice (6 and 2x3)\n",
    "\n",
    "Specs\n",
    "\n",
    "I wrote a function that takes a single argument (a number, max 3 digits) and returns True if the number is colorful, False if not."
   ]
  },
  {
   "cell_type": "code",
   "execution_count": 3,
   "id": "f037d34d",
   "metadata": {},
   "outputs": [
    {
     "name": "stdout",
     "output_type": "stream",
     "text": [
      "True\n"
     ]
    }
   ],
   "source": [
    "def is_colorful(number):\n",
    "    digits = [int(d) for d in str(number)]\n",
    "    if len(digits) == 2:\n",
    "        digits.append(digits[0]*digits[1])\n",
    "        for i in digits:\n",
    "            if digits.count(i) != 1:\n",
    "                return False\n",
    "        return True\n",
    "    elif len(digits) == 3:\n",
    "        digits.append(digits[0]*digits[1])\n",
    "        digits.append(digits[1]*digits[2])\n",
    "        digits.append(digits[1]*digits[2]*digits[0])\n",
    "        for i in digits:\n",
    "            if digits.count(i) > 1:\n",
    "                return False\n",
    "        return True\n",
    "\n",
    "print(is_colorful(435))"
   ]
  },
  {
   "cell_type": "code",
   "execution_count": null,
   "id": "5b7f6b7c",
   "metadata": {},
   "outputs": [],
   "source": []
  }
 ],
 "metadata": {
  "kernelspec": {
   "display_name": "Python 3",
   "language": "python",
   "name": "python3"
  },
  "language_info": {
   "codemirror_mode": {
    "name": "ipython",
    "version": 3
   },
   "file_extension": ".py",
   "mimetype": "text/x-python",
   "name": "python",
   "nbconvert_exporter": "python",
   "pygments_lexer": "ipython3",
   "version": "3.8.8"
  }
 },
 "nbformat": 4,
 "nbformat_minor": 5
}
