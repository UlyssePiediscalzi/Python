{
 "cells": [
  {
   "cell_type": "markdown",
   "id": "2faee7d0",
   "metadata": {},
   "source": [
    "# Stupid Coaching\n",
    "A more advanced challenge now where you will have to use notions that we haven’t covered yet (conditional and looping structures). Don’t panic, we’ll see these concepts tomorrow. Try to go step-by-step and ask yourself what you are trying to accomplish in your program before writing some code.\n",
    "\n",
    "In this exercise, we will create your own personal coach.\n",
    "Unfortunately though, the coach is a little stupid and can only exhibit the following behavior:\n",
    "\n",
    "If you don’t ask them something, but just tell them something (e.g. \"I met a girl last night\"), they will just answer back \"I don't care, get dressed and go to work!\"\n",
    "If you ask them something (e.g. \"Can I eat some pizza?\"), they won’t be of much help either and they will tell you \"Silly question, get dressed and go to work!\"\n",
    "The only way to get rid of them is to tell them what they wants to hear: \"I am going to work right now!\".\n",
    "Let’s make a comparison between the real world and the code world on this exercise.\n",
    "The objectives of this challenge are:\n",
    "\n",
    "Understand the flow of a program and learn how to “read” through your code, line by line\n",
    "Learn about conditional statements\n",
    "Learn about coding structures that modify your program flow\n",
    "Specs\n",
    "\n",
    "Coach answer\n",
    "Define the coach_answer function line 2 in the code editor.\n",
    "\n",
    "It should take one argument, your_message which is the sentence you tell the coach.\n",
    "The function should return a str (i.e., the coach’s answer) which will obviously depend on which value is passed in your_message.\n",
    "The function should not return anything if you tell the coach what they want to hear\n",
    "Enhanced version\n",
    "Now let’s implement an enhanced version. Define the function coach_answer_enhanced line 13. If you SHOUT at your coach, they will like it, and will say: I can feel your motivation! before the regular answer (from the non-enhanced version). Remember that shouting on the Internet is done by writing in CAPS LOCK! However, if you shout “I AM GOING TO WORK RIGHT NOW!”, your coach will leave you alone.\n",
    "\n"
   ]
  },
  {
   "cell_type": "code",
   "execution_count": null,
   "id": "ad2491d4",
   "metadata": {},
   "outputs": [],
   "source": [
    "Background and Objectives\n",
    "A more advanced challenge now where you will have to use notions that we haven’t covered yet (conditional and looping structures). Don’t panic, we’ll see these concepts tomorrow. Try to go step-by-step and ask yourself what you are trying to accomplish in your program before writing some code.\n",
    "\n",
    "In this exercise, we will create your own personal coach.\n",
    "Unfortunately though, the coach is a little stupid and can only exhibit the following behavior:\n",
    "\n",
    "If you don’t ask them something, but just tell them something (e.g. \"I met a girl last night\"), they will just answer back \"I don't care, get dressed and go to work!\"\n",
    "If you ask them something (e.g. \"Can I eat some pizza?\"), they won’t be of much help either and they will tell you \"Silly question, get dressed and go to work!\"\n",
    "The only way to get rid of them is to tell them what they wants to hear: \"I am going to work right now!\".\n",
    "Let’s make a comparison between the real world and the code world on this exercise.\n"
   ]
  },
  {
   "cell_type": "markdown",
   "id": "c396b16a",
   "metadata": {},
   "source": [
    "# Colorful numbers\n",
    "Background and Objectives\n",
    "\n",
    "We can break a number into different contiguous sub-subsequence parts. For example, the number 324 can be broken into parts like (3, 2, 4, 32, 24, 324). A colorful number is a number where the products of all the subsets of the digits are different. eg:\n",
    "\n",
    "263 is a colorful number (2, 6, 3, 2x6, 6x3, 2x6x3) are all different\n",
    "236 is not (2, 3, 6, 2x3, 3x6, 2x3x6) has 6 twice (6 and 2x3)\n",
    "\n",
    "Specs\n",
    "\n",
    "We want you to write a function is_colorful which takes a single number as an argument and returns True if the number is colorful, False otherwise.\n",
    "\n",
    "For this exercise, only consider numbers with up to 3 digits (not more), eg: \n",
    "is_colorful(263) #=> True\n",
    "is_colorful(236) #=> False\n",
    "    "
   ]
  },
  {
   "cell_type": "code",
   "execution_count": 121,
   "id": "95e1f146",
   "metadata": {},
   "outputs": [
    {
     "name": "stdout",
     "output_type": "stream",
     "text": [
      "[7, 3, 4, 21, 12, 84]\n",
      "True\n"
     ]
    }
   ],
   "source": [
    "def is_colorful(number):\n",
    "    digits = [int(d) for d in str(number)]\n",
    "    if len(digits) == 2:\n",
    "        digits.append(digits[0]*digits[1])\n",
    "        for i in digits:\n",
    "            if digits.count(i) != 1:\n",
    "                return False\n",
    "        return True\n",
    "    elif len(digits) == 3:\n",
    "        digits.append(digits[0]*digits[1])\n",
    "        digits.append(digits[1]*digits[2])\n",
    "        digits.append(digits[1]*digits[2]*digits[0])\n",
    "        print(digits)\n",
    "        for i in digits:\n",
    "            if digits.count(i) > 1:\n",
    "                return False\n",
    "        return True"
   ]
  },
  {
   "cell_type": "markdown",
   "id": "4d6eff5c",
   "metadata": {},
   "source": [
    "# Calculator\n",
    "\n",
    "Background and objectives\n",
    "\n",
    "Quite often our programs will need to accept inputs from a user, whether through terminal commands, API requests, or form submissions. In these cases inputs are processed as a str data type. Let’s pracitce type conversion by building a simple_calculator function.\n",
    "\n",
    "Specs\n",
    "\n",
    "Our function should take a single list of strings as an argument, containing our first opperand, followed by an operator and then the 2nd operand. eg:\n",
    "simple_calculator(['1', '+', '1' ]) #=> 2\n",
    "The function should return 'Please enter valid format: [Operand, Operator, Operand]' for arguments that don’t match the required format\n",
    "The funtion should work with the following simple operators +, -, *, /, %, and should return'Please enter a valid operator [ +, -, /, *, % ]' if any other operators are passed"
   ]
  },
  {
   "cell_type": "markdown",
   "id": "800e06a5",
   "metadata": {},
   "source": [
    "# Calculator"
   ]
  },
  {
   "cell_type": "code",
   "execution_count": 126,
   "id": "172ac8e2",
   "metadata": {},
   "outputs": [
    {
     "name": "stdout",
     "output_type": "stream",
     "text": [
      "['3', '+', '6']\n"
     ]
    }
   ],
   "source": [
    "def simple_calculator(test):\n",
    "    test = list(test)\n",
    "    operand1 = float(test[0])\n",
    "    operand2 = float(test[2])\n",
    "    \n",
    "    operator = {'+' : +, '-': -,'/': /, '*' : *, '%' : % }\n",
    "    if len(test) != 3:\n",
    "        return 'Please enter valid format: [Operand, Operator, Operand]'\n",
    "    elif (operand1 or operand2) is not float():\n",
    "        return 'Please enter valid format: [Operand, Operator, Operand]'\n",
    "    elif test[1] in operator.keys():\n",
    "        return operand\n",
    "        \n",
    "        return 'Please enter a valid operator [ +, -, /, *, % ]'\n",
    "\n",
    "    elif test \n",
    "    return test\n",
    "\n",
    "print(simple_calculator(['3', '+', '6']))"
   ]
  },
  {
   "cell_type": "code",
   "execution_count": 627,
   "id": "d35df08e",
   "metadata": {},
   "outputs": [
    {
     "name": "stdout",
     "output_type": "stream",
     "text": [
      "9.0\n"
     ]
    }
   ],
   "source": [
    "import operator \n",
    "\n",
    "def simple_calculator(test):\n",
    "    operators={\n",
    "    \"%\": operator.mod,\n",
    "    \"+\": operator.add,\n",
    "    \"-\": operator.sub,\n",
    "    \"*\": operator.mul,\n",
    "    \"/\": operator.truediv}\n",
    "    test = list(test)\n",
    "    operand1 = float(test[0])\n",
    "    operand2 = float(test[2])\n",
    "    operator1 = test[1]\n",
    "    result=operators[operator1](operand1,operand2)\n",
    "    return result\n",
    "\n",
    "print(simple_calculator(['3', '+', '6']))"
   ]
  },
  {
   "cell_type": "markdown",
   "id": "eafcd6ad",
   "metadata": {},
   "source": [
    "# FizzBuzz\n",
    "Write a function fizz_buzz which takes a single number as an argument, and returns a list of numbers from 1 to that number, but replaces some of them according to these rules:\n",
    "\n",
    "If the number is divisible by 3, then replace it with ‘Fizz’\n",
    "If the number is divisible by 5, then replace it with ‘Buzz’\n",
    "If the number is divisible by both 3 and 5, then replace it with ‘FizzBuzz’"
   ]
  },
  {
   "cell_type": "code",
   "execution_count": null,
   "id": "2d1ffe27",
   "metadata": {},
   "outputs": [],
   "source": [
    "def fizz_buzz(number):\n",
    "    sum = 0\n",
    "    if number < 0:\n",
    "        return 0\n",
    "    else:\n",
    "        for x in range(1,number):\n",
    "            if x == 3 or x ==5:\n",
    "                sum+=x\n",
    "            elif x%3 == 0 and x%5==0:\n",
    "                sum+=x\n",
    "            elif x%3 == 0 or x%5==0:\n",
    "                sum+=x\n",
    "    return sum"
   ]
  },
  {
   "cell_type": "code",
   "execution_count": 155,
   "id": "ca01328f",
   "metadata": {},
   "outputs": [
    {
     "name": "stdout",
     "output_type": "stream",
     "text": [
      "[1, 2, 'Fizz', 4, 'Buzz', 'Fizz', 7, 8, 'Fizz', 'Buzz', 11, 'Fizz', 13, 14, 'FizzBuzz', 16, 17, 'Fizz', 19, 'Buzz']\n"
     ]
    }
   ],
   "source": [
    "def fizz_buzz(number):\n",
    "    test = list(range(1, number+1))\n",
    "    result = []\n",
    "    for i in test:\n",
    "        if i%3 ==0 and i%5 ==0:\n",
    "            result.append('FizzBuzz')\n",
    "        elif i%3 == 0:\n",
    "            result.append('Fizz')\n",
    "        elif i%5 == 0:\n",
    "            result.append('Buzz')\n",
    "        else:\n",
    "            result.append(i)\n",
    "    return result\n",
    "print(fizz_buzz(20))"
   ]
  },
  {
   "cell_type": "markdown",
   "id": "109d3d66",
   "metadata": {},
   "source": [
    "# Shuffle"
   ]
  },
  {
   "cell_type": "code",
   "execution_count": 168,
   "id": "22551fb9",
   "metadata": {},
   "outputs": [
    {
     "name": "stdout",
     "output_type": "stream",
     "text": [
      "[3, 4, 2, 8, 6, 5, 7, 0, 1, 9]\n"
     ]
    }
   ],
   "source": [
    "import random\n",
    "\n",
    "def manual_shuffle(test):\n",
    "    test = list(test)\n",
    "    test1 = list(test.copy())\n",
    "    shuffled =[]\n",
    "    while len(test1) > 0:\n",
    "        shuffled.append(random.choice(test1))\n",
    "        for i in shuffled:\n",
    "            if i in test1:\n",
    "                test1.remove(i)\n",
    "    return shuffled\n",
    "\n",
    "print(manual_shuffle(list(range(10))))"
   ]
  },
  {
   "cell_type": "markdown",
   "id": "a8fad515",
   "metadata": {},
   "source": [
    "# McDo"
   ]
  },
  {
   "cell_type": "code",
   "execution_count": 243,
   "id": "097b7582",
   "metadata": {
    "scrolled": true
   },
   "outputs": [
    {
     "data": {
      "text/plain": [
       "'item_name not found'"
      ]
     },
     "execution_count": 243,
     "metadata": {},
     "output_type": "execute_result"
    }
   ],
   "source": [
    "mcdo = {\n",
    "  \"Hamburger\": 250,\n",
    "  \"Cheese Burger\": 300,\n",
    "  \"Big Mac\": 540,\n",
    "  \"McChicken\" : 350,\n",
    "  \"French Fries\": 230,\n",
    "  \"Salad\": 15,\n",
    "  \"Coca Cola\": 150,\n",
    "  \"Sprite\" : 150,\n",
    "}\n",
    "\n",
    "def poor_calories_counter(item1, item2, item3):\n",
    "    total = 0\n",
    "    if (item1 or item2 or item3) not in mcdo.keys():\n",
    "        return(f\"{item1 or item2 or item3} not found\")        \n",
    "    else:\n",
    "        total = mcdo.get(item1) + mcdo.get(item2)+ mcdo.get(item3) \n",
    "        return total        "
   ]
  },
  {
   "cell_type": "markdown",
   "id": "be7cd0df",
   "metadata": {},
   "source": [
    "# McDo2 "
   ]
  },
  {
   "cell_type": "code",
   "execution_count": 393,
   "id": "2584e74f",
   "metadata": {},
   "outputs": [
    {
     "name": "stdout",
     "output_type": "stream",
     "text": [
      "350\n"
     ]
    }
   ],
   "source": [
    "mcdo = {\n",
    "  \"Hamburger\": 250,\n",
    "  \"Cheese Burger\": 300,\n",
    "  \"Big Mac\": 540,\n",
    "  \"McChicken\" : 350,\n",
    "  \"French Fries\": 230,\n",
    "  \"Salad\": 15,\n",
    "  \"Coca Cola\": 150,\n",
    "  \"Sprite\" : 150,\n",
    "}\n",
    "\n",
    "mcdo2 = {\n",
    "  \"Happy Meal\": ['Cheese Burger', 'French Fries', 'Coca Cola'],\n",
    "  \"Best Of Big Mac\": ['Big Mac', 'French Fries', 'Coca Cola'],\n",
    "  \"Best Of McChicken\": ['McChicken', 'Salad', 'Sprite']\n",
    "}\n",
    "\n",
    "def advanced_calories_counter(order):\n",
    "    total = 0\n",
    "    for dish in order:\n",
    "        if dish in mcdo.keys():\n",
    "            total += mcdo[dish]\n",
    "        elif dish in mcdo2.keys():\n",
    "            items = mcdo2[dish]\n",
    "            for item in items:\n",
    "                total += mcdo[item]\n",
    "        else: \n",
    "            return(f\"{dish} not found\")\n",
    "    return total"
   ]
  },
  {
   "cell_type": "markdown",
   "id": "9465d72f",
   "metadata": {},
   "source": [
    "# Roman Int"
   ]
  },
  {
   "cell_type": "code",
   "execution_count": 425,
   "id": "c6321156",
   "metadata": {},
   "outputs": [
    {
     "name": "stdout",
     "output_type": "stream",
     "text": [
      "14\n"
     ]
    }
   ],
   "source": [
    "roman_num = {\n",
    "    'I': 1,\n",
    "    'IV': 4,\n",
    "    'V':5,\n",
    "    'IX' :9,\n",
    "    'X':10,\n",
    "    'XL': 40,\n",
    "    'L' :50,\n",
    "    'XC':90,\n",
    "    'C' :100,\n",
    "    'CD': 400,\n",
    "    'D' :500,\n",
    "    'CM': 900,\n",
    "    'M' : 1000\n",
    "}\n",
    "    \n",
    "def roman_to_int(roman):\n",
    "    result = 0\n",
    "    while roman:\n",
    "        if roman[:2] in roman_num.keys():\n",
    "            result += roman_num[roman[:2]]\n",
    "            roman = roman[2:]\n",
    "        elif roman[:1] in roman_num.keys():\n",
    "            result += roman_num[roman[:1]]\n",
    "            roman=roman[1:]\n",
    "    return result\n",
    "    \n",
    "print(roman_to_int('XIV'))"
   ]
  },
  {
   "cell_type": "markdown",
   "id": "c0d0ae56",
   "metadata": {},
   "source": [
    "# OrangeTree OOP"
   ]
  },
  {
   "cell_type": "code",
   "execution_count": 434,
   "id": "3f601d51",
   "metadata": {},
   "outputs": [
    {
     "ename": "SyntaxError",
     "evalue": "invalid syntax (<ipython-input-434-a4c189451242>, line 23)",
     "output_type": "error",
     "traceback": [
      "\u001b[0;36m  File \u001b[0;32m\"<ipython-input-434-a4c189451242>\"\u001b[0;36m, line \u001b[0;32m23\u001b[0m\n\u001b[0;31m    elif\u001b[0m\n\u001b[0m        ^\u001b[0m\n\u001b[0;31mSyntaxError\u001b[0m\u001b[0;31m:\u001b[0m invalid syntax\n"
     ]
    }
   ],
   "source": [
    "import random as rd\n",
    "\n",
    "class OrangeTree:\n",
    "    def __init__(self):\n",
    "        self.age = 0\n",
    "        self.height = 0\n",
    "        self.fruits = 0\n",
    "        self.dead = False\n",
    "        self.test = [0] * 50        \n",
    "        \n",
    "    def one_year_passes(self):\n",
    "        if self.dead == True:\n",
    "            return\n",
    "        self.age += 1\n",
    "        \n",
    "        if self.age <= 50:\n",
    "            self.dead = False\n",
    "        elif self.age >= 100:\n",
    "            self.dead = True\n",
    "        elif rd.choice(self.test) == 0:\n",
    "            self.dead = False\n",
    "            self.test[self.age - 51] = 1\n",
    "        else:\n",
    "            self.dead = True\n",
    "            \n",
    "        if self.age <= 10:\n",
    "            self.height += 1\n",
    "        \n",
    "        if self.age >= 15:\n",
    "            self.fruits += 0\n",
    "            self.fruits = 0\n",
    "        elif self.age >= 10:\n",
    "            self.fruits = 200\n",
    "        elif self.age > 5:\n",
    "            self.fruits= 100\n",
    "        \n",
    "    def pick_a_fruit(self):\n",
    "        if self.fruits > 1:\n",
    "            self.fruits -= 1\n",
    "        else:\n",
    "            return \"No fruits left\"\n",
    "\n",
    "\n",
    "\n"
   ]
  },
  {
   "cell_type": "markdown",
   "id": "1a6b93ca",
   "metadata": {},
   "source": [
    "   # Student Wealth OOP"
   ]
  },
  {
   "cell_type": "code",
   "execution_count": 459,
   "id": "6afa4a3a",
   "metadata": {},
   "outputs": [],
   "source": [
    "class Student:\n",
    "    def __init__(self, name, fives, tens, twenties):\n",
    "        self.name= name\n",
    "        self.fives= fives\n",
    "        self.tens = tens\n",
    "        self.twenties = twenties\n",
    "    \n",
    "    def wealth(self):\n",
    "        money = self.fives *5 + self.tens *10 + self.twenties*20\n",
    "        return money\n",
    "    \n",
    "    def compare(self,other_student):\n",
    "        if Student.wealth(self_name) > other_student.wealth():\n",
    "            return self.name\n",
    "        else:\n",
    "            return other_student\n",
    "\n",
    "\n",
    "\n",
    "\n",
    "\n"
   ]
  },
  {
   "cell_type": "markdown",
   "id": "9f91d375",
   "metadata": {},
   "source": [
    "# Meteo 1"
   ]
  },
  {
   "cell_type": "code",
   "execution_count": 557,
   "id": "308438e0",
   "metadata": {},
   "outputs": [
    {
     "name": "stdout",
     "output_type": "stream",
     "text": [
      "['latt_long', '51.506321,-0.12714', 'City', 'London']\n",
      "{'City': 'London', 'Lat': 51.506321, 'Long': -0.12714}\n"
     ]
    }
   ],
   "source": [
    "import os; os.system(\"pip install requests\")\n",
    "import requests\n",
    "response = requests.get(\"https://www.metaweather.com/api/location/search/?query=london\").json()\n",
    "\n",
    "#def city_info(response):\n",
    "del response[0][\"location_type\"]\n",
    "del response[0][\"woeid\"]\n",
    "response[0]['City'] = response[0].pop(\"title\")\n",
    "\n",
    "list1 =[]\n",
    "for k,v in response[0].items():\n",
    "    list1.append(k)\n",
    "    list1.append(v)\n",
    "\n",
    "list1[1].split(',')\n",
    "LatLong = list1[1].split(',')\n",
    "Lat = LatLong[0]\n",
    "Long = LatLong[1]\n",
    "print(list1)\n",
    "\n",
    "test = {\n",
    "    list1[2] : list1[3],\n",
    "    'Lat' : float(Lat),\n",
    "    'Long' : float(Long)\n",
    "}\n",
    "print(test)\n",
    "    \n",
    "\n"
   ]
  },
  {
   "cell_type": "markdown",
   "id": "a43d8435",
   "metadata": {},
   "source": [
    "# Meteo 2"
   ]
  },
  {
   "cell_type": "code",
   "execution_count": 626,
   "id": "0b9175d2",
   "metadata": {},
   "outputs": [
    {
     "name": "stdout",
     "output_type": "stream",
     "text": [
      "The weather in London is ['Heavy Rain']\n"
     ]
    }
   ],
   "source": [
    "import os; os.system(\"pip install requests\")\n",
    "import requests\n",
    "response = requests.get(\"https://www.metaweather.com/api/location/44418/\").json()\n",
    "# Do not modify the code above\n",
    "import datetime as dt\n",
    "\n",
    "def weather_forecast(response):\n",
    "    \n",
    "    city = response['title']\n",
    "    forecast = []\n",
    "    tomorrow = str(dt.date.today() + dt.timedelta(days=1))\n",
    "    for i in response['consolidated_weather']:\n",
    "        if i.get('applicable_date') == tomorrow:\n",
    "            forecast.append(i.get('weather_state_name'))\n",
    "    return (f\"The weather in {city} is {forecast}\")\n",
    "\n",
    "\n",
    "\n",
    "print(weather_forecast(response))\n",
    "\n"
   ]
  },
  {
   "cell_type": "code",
   "execution_count": 625,
   "id": "91d521ce",
   "metadata": {},
   "outputs": [
    {
     "name": "stdout",
     "output_type": "stream",
     "text": [
      "True\n"
     ]
    }
   ],
   "source": [
    "import os; os.system(\"pip install requests\")\n",
    "import requests\n",
    "response = requests.get(\"https://www.metaweather.com/api/location/44418/\").json()\n",
    "\n",
    "#city = response['title']\n",
    "#forecast = []\n",
    "tomorrow = str(dt.date.today() + dt.timedelta(days=1))\n",
    "for i in response['consolidated_weather']:\n",
    "    if i.get('applicable_date') == tomorrow:\n",
    "        #forecast.append(i.get('weather_state_name'))\n",
    "        #print(tomorrowdate)\n",
    "\n"
   ]
  },
  {
   "cell_type": "code",
   "execution_count": null,
   "id": "88f4ccd0",
   "metadata": {},
   "outputs": [],
   "source": [
    "    for i in response['consolidated_weather']:\n",
    "        if dt.date.today() == i.get('applicable_date'):"
   ]
  }
 ],
 "metadata": {
  "kernelspec": {
   "display_name": "Python 3",
   "language": "python",
   "name": "python3"
  },
  "language_info": {
   "codemirror_mode": {
    "name": "ipython",
    "version": 3
   },
   "file_extension": ".py",
   "mimetype": "text/x-python",
   "name": "python",
   "nbconvert_exporter": "python",
   "pygments_lexer": "ipython3",
   "version": "3.8.8"
  }
 },
 "nbformat": 4,
 "nbformat_minor": 5
}
