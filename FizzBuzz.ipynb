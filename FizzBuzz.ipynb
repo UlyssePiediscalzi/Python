{
 "cells": [
  {
   "cell_type": "markdown",
   "id": "1675f6f7",
   "metadata": {},
   "source": [
    "# FizzBuzz\n",
    "Function fizz_buzz which takes a single number as an argument, and returns a list of numbers from 1 to that number, but replaces some of them according to these rules:\n",
    "\n",
    "If the number is divisible by 3, then replace it with ‘Fizz’\n",
    "If the number is divisible by 5, then replace it with ‘Buzz’\n",
    "If the number is divisible by both 3 and 5, then replace it with ‘FizzBuzz’"
   ]
  },
  {
   "cell_type": "code",
   "execution_count": 1,
   "id": "b93a3fca",
   "metadata": {},
   "outputs": [
    {
     "name": "stdout",
     "output_type": "stream",
     "text": [
      "[1, 2, 'Fizz', 4, 'Buzz', 'Fizz', 7, 8, 'Fizz', 'Buzz', 11, 'Fizz', 13, 14, 'FizzBuzz', 16, 17, 'Fizz', 19, 'Buzz']\n"
     ]
    }
   ],
   "source": [
    "def fizz_buzz(number):\n",
    "    test = list(range(1, number+1))\n",
    "    result = []\n",
    "    for i in test:\n",
    "        if i%3 ==0 and i%5 ==0:\n",
    "            result.append('FizzBuzz')\n",
    "        elif i%3 == 0:\n",
    "            result.append('Fizz')\n",
    "        elif i%5 == 0:\n",
    "            result.append('Buzz')\n",
    "        else:\n",
    "            result.append(i)\n",
    "    return result\n",
    "print(fizz_buzz(20))"
   ]
  },
  {
   "cell_type": "code",
   "execution_count": null,
   "id": "fa872525",
   "metadata": {},
   "outputs": [],
   "source": []
  }
 ],
 "metadata": {
  "kernelspec": {
   "display_name": "Python 3",
   "language": "python",
   "name": "python3"
  },
  "language_info": {
   "codemirror_mode": {
    "name": "ipython",
    "version": 3
   },
   "file_extension": ".py",
   "mimetype": "text/x-python",
   "name": "python",
   "nbconvert_exporter": "python",
   "pygments_lexer": "ipython3",
   "version": "3.8.8"
  }
 },
 "nbformat": 4,
 "nbformat_minor": 5
}
