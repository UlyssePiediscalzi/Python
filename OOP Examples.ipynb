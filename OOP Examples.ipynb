{
 "cells": [
  {
   "cell_type": "markdown",
   "id": "ee2e2836",
   "metadata": {},
   "source": [
    "# Orange Tree\n",
    "Creation of an OrangeTree class which models the life of an orange tree (its birth, life cycle and death). Our class should incluce the following attributes: age, height, fruits, all integers, and dead a boolean.\n",
    "\n",
    "To simulate time passing, I implemented the following instance method:\n",
    "\n",
    "one_year_passes\n",
    "pick_a_fruit"
   ]
  },
  {
   "cell_type": "code",
   "execution_count": 1,
   "id": "28dd4cd3",
   "metadata": {},
   "outputs": [],
   "source": [
    "import random as rd\n",
    "\n",
    "class OrangeTree:\n",
    "    def __init__(self):\n",
    "        self.age = 0\n",
    "        self.height = 0\n",
    "        self.fruits = 0\n",
    "        self.dead = False\n",
    "        self.test = [0] * 50        \n",
    "        \n",
    "    def one_year_passes(self):\n",
    "        if self.dead == True:\n",
    "            return\n",
    "        self.age += 1\n",
    "        \n",
    "        if self.age <= 50:\n",
    "            self.dead = False\n",
    "        elif self.age >= 100:\n",
    "            self.dead = True\n",
    "        elif rd.choice(self.test) == 0:\n",
    "            self.dead = False\n",
    "            self.test[self.age - 51] = 1\n",
    "        else:\n",
    "            self.dead = True\n",
    "            \n",
    "        if self.age <= 10:\n",
    "            self.height += 1\n",
    "        \n",
    "        if self.age >= 15:\n",
    "            self.fruits = 0\n",
    "        elif self.age >= 10:\n",
    "            self.fruits = 200\n",
    "        elif self.age > 5:\n",
    "            self.fruits = 100\n",
    "        \n",
    "    def pick_a_fruit(self):\n",
    "        if self.fruits > 1:\n",
    "            self.fruits -= 1\n",
    "        else:\n",
    "            return \"No fruits left\"\n",
    "\n",
    "\n",
    "\n"
   ]
  },
  {
   "cell_type": "markdown",
   "id": "f3b32259",
   "metadata": {},
   "source": [
    "# Student Wealth\n",
    "\n",
    "Definition of a class of students, who each have an amount of money (in bills of five, ten and twenty euro). We want to be able to compare them based on their wealth. "
   ]
  },
  {
   "cell_type": "code",
   "execution_count": 2,
   "id": "4ba9abbf",
   "metadata": {},
   "outputs": [],
   "source": [
    "class Student:\n",
    "    def __init__(self, name, fives, tens, twenties):\n",
    "        self.name= name\n",
    "        self.fives= fives\n",
    "        self.tens = tens\n",
    "        self.twenties = twenties\n",
    "    \n",
    "    def wealth(self):\n",
    "        money = self.fives *5 + self.tens *10 + self.twenties*20\n",
    "        return money\n",
    "    \n",
    "    def compare(self,other_student):\n",
    "        if self.wealth() > other_student.wealth():\n",
    "            return self.name\n",
    "        else:\n",
    "            return other_student.name\n",
    "    \n",
    "    def advanced_compare(self, list2):\n",
    "        new_list = sorted([i.wealth() for i in list2], reverse =True)\n",
    "        print(new_list)\n",
    "        return new_list"
   ]
  },
  {
   "cell_type": "markdown",
   "id": "ddfc98d3",
   "metadata": {},
   "source": [
    "# Dessert\n",
    "\n",
    "Creation of a class Dessert to show how class inheritance works.\n"
   ]
  },
  {
   "cell_type": "code",
   "execution_count": null,
   "id": "3c387f80",
   "metadata": {},
   "outputs": [],
   "source": [
    "class Dessert:\n",
    "    def __init__(self, name, calories):\n",
    "        self.name= name\n",
    "        self.calories=calories\n",
    "\t\n",
    "    def healthy(self):\n",
    "        if self.calories < 200:\n",
    "            return True\n",
    "\n",
    "    def delicious(self):\n",
    "        return True\n",
    "\n",
    "class JellyBean(Dessert):\n",
    "    def __init__(self, name, calories, flavor):\n",
    "        super().__init__(name, calories)\n",
    "        self.flavor = flavor\n",
    "        \n",
    "    def delicious(self):\n",
    "        if self.flavor == \"black licorice\":\n",
    "            super().delicious == False\n",
    "        else:\n",
    "            return True"
   ]
  }
 ],
 "metadata": {
  "kernelspec": {
   "display_name": "Python 3",
   "language": "python",
   "name": "python3"
  },
  "language_info": {
   "codemirror_mode": {
    "name": "ipython",
    "version": 3
   },
   "file_extension": ".py",
   "mimetype": "text/x-python",
   "name": "python",
   "nbconvert_exporter": "python",
   "pygments_lexer": "ipython3",
   "version": "3.8.8"
  }
 },
 "nbformat": 4,
 "nbformat_minor": 5
}
