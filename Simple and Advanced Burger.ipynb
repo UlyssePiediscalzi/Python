{
 "cells": [
  {
   "cell_type": "markdown",
   "id": "e621d155",
   "metadata": {},
   "source": [
    "# Simple Burger\n",
    "\n",
    "Function that computes the number of calories in a McDonalds order. I’ll use the table below as our abridged McDonalds menu:\n",
    "\n",
    "Item         Calories\n",
    "\n",
    "Hamburger       250\n",
    "\n",
    "Cheese Burger\t300\n",
    "\n",
    "Big Mac\t        540\n",
    "\n",
    "McChicken\t    350\n",
    "\n",
    "French Fries\t230\n",
    "\n",
    "Salad\t        15\n",
    "\n",
    "Coca Cola\t    150\n",
    "\n",
    "Sprite\t        150\n",
    "\n",
    "\n",
    "The function takes three string arguments and returns the total number of calories for the three items of the order."
   ]
  },
  {
   "cell_type": "code",
   "execution_count": 1,
   "id": "13424aa0",
   "metadata": {},
   "outputs": [
    {
     "name": "stdout",
     "output_type": "stream",
     "text": [
      "730\n"
     ]
    }
   ],
   "source": [
    "mcdo = {\n",
    "  \"Hamburger\": 250,\n",
    "  \"Cheese Burger\": 300,\n",
    "  \"Big Mac\": 540,\n",
    "  \"McChicken\" : 350,\n",
    "  \"French Fries\": 230,\n",
    "  \"Salad\": 15,\n",
    "  \"Coca Cola\": 150,\n",
    "  \"Sprite\" : 150,\n",
    "}\n",
    "\n",
    "def poor_calories_counter(item1, item2, item3):\n",
    "    total = 0\n",
    "    if (item1 or item2 or item3) not in mcdo.keys():\n",
    "        return(f\"{item1 or item2 or item3} not found\")        \n",
    "    else:\n",
    "        total = mcdo.get(item1) + mcdo.get(item2)+ mcdo.get(item3) \n",
    "        return total\n",
    "    \n",
    "print(poor_calories_counter(\"McChicken\", \"French Fries\", \"Sprite\"))"
   ]
  },
  {
   "cell_type": "markdown",
   "id": "d513dd76",
   "metadata": {},
   "source": [
    "# Advanced Burger\n",
    "\n",
    "Improving your calorie counter, so that it can accept a list of drinks, burgers, sides, and MEALS. Let’s add these 3 meals to our menu:\n",
    "\n",
    "Meal\tItems in Meal\n",
    "\n",
    "Happy Meal : \tCheese Burger, French Fries, Coca Cola\n",
    "\n",
    "Best Of Big Mac :\tBig Mac, French Fries, Coca Cola\n",
    "\n",
    "Best Of McChicken :\tMcChicken, Salad, Sprite\n",
    "\n",
    "Let’s now create an advanced_calories_counter function that will enable us to calculate calories of a combination of both our meals and our individual dishes.\n",
    "\n"
   ]
  },
  {
   "cell_type": "code",
   "execution_count": 3,
   "id": "78f29233",
   "metadata": {},
   "outputs": [
    {
     "name": "stdout",
     "output_type": "stream",
     "text": [
      "1575\n"
     ]
    }
   ],
   "source": [
    "mcdo = {\n",
    "  \"Hamburger\": 250,\n",
    "  \"Cheese Burger\": 300,\n",
    "  \"Big Mac\": 540,\n",
    "  \"McChicken\" : 350,\n",
    "  \"French Fries\": 230,\n",
    "  \"Salad\": 15,\n",
    "  \"Coca Cola\": 150,\n",
    "  \"Sprite\" : 150,\n",
    "}\n",
    "\n",
    "mcdo2 = {\n",
    "  \"Happy Meal\": ['Cheese Burger', 'French Fries', 'Coca Cola'],\n",
    "  \"Best Of Big Mac\": ['Big Mac', 'French Fries', 'Coca Cola'],\n",
    "  \"Best Of McChicken\": ['McChicken', 'Salad', 'Sprite']\n",
    "}\n",
    "\n",
    "def advanced_calories_counter(order):\n",
    "    total = 0\n",
    "    for dish in order:\n",
    "        if dish in mcdo.keys():\n",
    "            total += mcdo[dish]\n",
    "        elif dish in mcdo2.keys():\n",
    "            items = mcdo2[dish]\n",
    "            for item in items:\n",
    "                total += mcdo[item]\n",
    "        else: \n",
    "            return(f\"{dish} not found\")\n",
    "    return total\n",
    "\n",
    "orders = [\"French Fries\", \"Happy Meal\", \"Sprite\", \"Best Of McChicken\"]\n",
    "print(advanced_calories_counter(orders))"
   ]
  },
  {
   "cell_type": "code",
   "execution_count": null,
   "id": "94ab45bb",
   "metadata": {},
   "outputs": [],
   "source": []
  }
 ],
 "metadata": {
  "kernelspec": {
   "display_name": "Python 3",
   "language": "python",
   "name": "python3"
  },
  "language_info": {
   "codemirror_mode": {
    "name": "ipython",
    "version": 3
   },
   "file_extension": ".py",
   "mimetype": "text/x-python",
   "name": "python",
   "nbconvert_exporter": "python",
   "pygments_lexer": "ipython3",
   "version": "3.8.8"
  }
 },
 "nbformat": 4,
 "nbformat_minor": 5
}
